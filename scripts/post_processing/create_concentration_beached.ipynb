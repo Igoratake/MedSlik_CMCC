{
 "cells": [
  {
   "cell_type": "code",
   "execution_count": 1,
   "metadata": {},
   "outputs": [],
   "source": [
    "import xarray as xr\n",
    "import geopandas as gpd\n",
    "\n",
    "from shapely.geometry import Point, Polygon\n",
    "\n",
    "import time\n",
    "\n",
    "import matplotlib.pyplot as plt\n",
    "\n",
    "coastline  = gpd.read_file('/Users/iatake/Dropbox (CMCC)/Work/MEDSLIK-II and Pyslick/Medslik-II/data/gshhs/GSHHS_shp/f/GSHHS_f_L1.shp')"
   ]
  },
  {
   "cell_type": "markdown",
   "metadata": {},
   "source": [
    "# Support for Marco Seracini"
   ]
  },
  {
   "cell_type": "markdown",
   "metadata": {},
   "source": [
    "## Create a Line shapefile"
   ]
  },
  {
   "cell_type": "code",
   "execution_count": 79,
   "metadata": {},
   "outputs": [],
   "source": [
    "def split_line(line, distance):\n",
    "    if line.length <= distance:\n",
    "        return [line]\n",
    "    \n",
    "    num_segments = int(line.length / distance)\n",
    "    segments = []\n",
    "    for i in range(num_segments):\n",
    "        start_dist = i * distance\n",
    "        end_dist = (i + 1) * distance\n",
    "        segment = line.interpolate(start_dist).buffer(distance).intersection(line)\n",
    "        segments.append(segment)\n",
    "    \n",
    "    # Add the last segment\n",
    "    segment = line.interpolate((i + 1) * distance).intersection(line)\n",
    "    segments.append(segment)\n",
    "    \n",
    "    return segments"
   ]
  },
  {
   "cell_type": "code",
   "execution_count": 45,
   "metadata": {},
   "outputs": [
    {
     "name": "stderr",
     "output_type": "stream",
     "text": [
      "/Users/iatake/anaconda3/envs/ig/lib/python3.11/site-packages/geopandas/geodataframe.py:1525: SettingWithCopyWarning: \n",
      "A value is trying to be set on a copy of a slice from a DataFrame.\n",
      "Try using .loc[row_indexer,col_indexer] = value instead\n",
      "\n",
      "See the caveats in the documentation: https://pandas.pydata.org/pandas-docs/stable/user_guide/indexing.html#returning-a-view-versus-a-copy\n",
      "  super().__setitem__(key, value)\n"
     ]
    }
   ],
   "source": [
    "xmin = 33\n",
    "xmax = 36\n",
    "ymin = 33\n",
    "ymax = 35\n",
    "\n",
    "# Cropping to a smaller area\n",
    "lines = coastline.cx[xmin:xmax, ymin:ymax]\n",
    "\n",
    "#shp with linestring instead of polygons\n",
    "lines['geometry'] = lines.geometry.boundary\n",
    "\n",
    "# Cropping the selected linestrings to the same bounding box\n",
    "lines = lines.clip_by_rect(xmin,ymin, xmax,ymax)\n",
    "\n",
    "# Removing empty geometries\n",
    "lines = lines[~lines.is_empty]\n",
    "\n",
    "#Transforming it back again to geodataframe\n",
    "lines = gpd.GeoDataFrame(geometry = lines)\n",
    "\n",
    "#removing any multiline strings left on the shapefile\n",
    "lines = lines.explode(index_parts=True)\n",
    "\n",
    "lines = lines.reset_index()\n",
    "\n",
    "lines['geom'] = lines.geometry"
   ]
  },
  {
   "cell_type": "code",
   "execution_count": 98,
   "metadata": {},
   "outputs": [],
   "source": [
    "new_lines = []\n",
    "for index, row in lines.iterrows():\n",
    "    line = row['geometry']\n",
    "    segments = split_line(line, 0.005)\n",
    "    for segment in segments:\n",
    "        new_lines.append(segment)\n",
    "\n",
    "new_gdf = gpd.GeoDataFrame(geometry=new_lines)\n",
    "new_gdf['geom'] = new_gdf.geometry\n"
   ]
  },
  {
   "cell_type": "code",
   "execution_count": 99,
   "metadata": {},
   "outputs": [
    {
     "data": {
      "text/html": [
       "<div>\n",
       "<style scoped>\n",
       "    .dataframe tbody tr th:only-of-type {\n",
       "        vertical-align: middle;\n",
       "    }\n",
       "\n",
       "    .dataframe tbody tr th {\n",
       "        vertical-align: top;\n",
       "    }\n",
       "\n",
       "    .dataframe thead th {\n",
       "        text-align: right;\n",
       "    }\n",
       "</style>\n",
       "<table border=\"1\" class=\"dataframe\">\n",
       "  <thead>\n",
       "    <tr style=\"text-align: right;\">\n",
       "      <th></th>\n",
       "      <th>geometry</th>\n",
       "      <th>geom</th>\n",
       "    </tr>\n",
       "  </thead>\n",
       "  <tbody>\n",
       "    <tr>\n",
       "      <th>0</th>\n",
       "      <td>LINESTRING (35.08433 33.00000, 35.08614 33.001...</td>\n",
       "      <td>LINESTRING (35.08433 33.00000, 35.08614 33.001...</td>\n",
       "    </tr>\n",
       "    <tr>\n",
       "      <th>1</th>\n",
       "      <td>LINESTRING (35.08433 33.00000, 35.08614 33.001...</td>\n",
       "      <td>LINESTRING (35.08433 33.00000, 35.08614 33.001...</td>\n",
       "    </tr>\n",
       "    <tr>\n",
       "      <th>2</th>\n",
       "      <td>LINESTRING (35.08614 33.00394, 35.08614 33.004...</td>\n",
       "      <td>LINESTRING (35.08614 33.00394, 35.08614 33.004...</td>\n",
       "    </tr>\n",
       "    <tr>\n",
       "      <th>3</th>\n",
       "      <td>LINESTRING (35.08700 33.00846, 35.08700 33.009...</td>\n",
       "      <td>LINESTRING (35.08700 33.00846, 35.08700 33.009...</td>\n",
       "    </tr>\n",
       "    <tr>\n",
       "      <th>4</th>\n",
       "      <td>LINESTRING (35.08865 33.01277, 35.08867 33.013...</td>\n",
       "      <td>LINESTRING (35.08865 33.01277, 35.08867 33.013...</td>\n",
       "    </tr>\n",
       "    <tr>\n",
       "      <th>...</th>\n",
       "      <td>...</td>\n",
       "      <td>...</td>\n",
       "    </tr>\n",
       "    <tr>\n",
       "      <th>1108</th>\n",
       "      <td>LINESTRING (35.76464 34.49489, 35.76508 34.495...</td>\n",
       "      <td>LINESTRING (35.76464 34.49489, 35.76508 34.495...</td>\n",
       "    </tr>\n",
       "    <tr>\n",
       "      <th>1109</th>\n",
       "      <td>LINESTRING (35.80547 34.44656, 35.80583 34.446...</td>\n",
       "      <td>LINESTRING (35.80547 34.44656, 35.80583 34.446...</td>\n",
       "    </tr>\n",
       "    <tr>\n",
       "      <th>1110</th>\n",
       "      <td>LINESTRING (35.80464 34.44822, 35.80506 34.448...</td>\n",
       "      <td>LINESTRING (35.80464 34.44822, 35.80506 34.448...</td>\n",
       "    </tr>\n",
       "    <tr>\n",
       "      <th>1111</th>\n",
       "      <td>LINESTRING (35.75717 34.49819, 35.75753 34.498...</td>\n",
       "      <td>LINESTRING (35.75717 34.49819, 35.75753 34.498...</td>\n",
       "    </tr>\n",
       "    <tr>\n",
       "      <th>1112</th>\n",
       "      <td>LINESTRING (35.08367 33.03825, 35.08408 33.038...</td>\n",
       "      <td>LINESTRING (35.08367 33.03825, 35.08408 33.038...</td>\n",
       "    </tr>\n",
       "  </tbody>\n",
       "</table>\n",
       "<p>1113 rows × 2 columns</p>\n",
       "</div>"
      ],
      "text/plain": [
       "                                               geometry  \\\n",
       "0     LINESTRING (35.08433 33.00000, 35.08614 33.001...   \n",
       "1     LINESTRING (35.08433 33.00000, 35.08614 33.001...   \n",
       "2     LINESTRING (35.08614 33.00394, 35.08614 33.004...   \n",
       "3     LINESTRING (35.08700 33.00846, 35.08700 33.009...   \n",
       "4     LINESTRING (35.08865 33.01277, 35.08867 33.013...   \n",
       "...                                                 ...   \n",
       "1108  LINESTRING (35.76464 34.49489, 35.76508 34.495...   \n",
       "1109  LINESTRING (35.80547 34.44656, 35.80583 34.446...   \n",
       "1110  LINESTRING (35.80464 34.44822, 35.80506 34.448...   \n",
       "1111  LINESTRING (35.75717 34.49819, 35.75753 34.498...   \n",
       "1112  LINESTRING (35.08367 33.03825, 35.08408 33.038...   \n",
       "\n",
       "                                                   geom  \n",
       "0     LINESTRING (35.08433 33.00000, 35.08614 33.001...  \n",
       "1     LINESTRING (35.08433 33.00000, 35.08614 33.001...  \n",
       "2     LINESTRING (35.08614 33.00394, 35.08614 33.004...  \n",
       "3     LINESTRING (35.08700 33.00846, 35.08700 33.009...  \n",
       "4     LINESTRING (35.08865 33.01277, 35.08867 33.013...  \n",
       "...                                                 ...  \n",
       "1108  LINESTRING (35.76464 34.49489, 35.76508 34.495...  \n",
       "1109  LINESTRING (35.80547 34.44656, 35.80583 34.446...  \n",
       "1110  LINESTRING (35.80464 34.44822, 35.80506 34.448...  \n",
       "1111  LINESTRING (35.75717 34.49819, 35.75753 34.498...  \n",
       "1112  LINESTRING (35.08367 33.03825, 35.08408 33.038...  \n",
       "\n",
       "[1113 rows x 2 columns]"
      ]
     },
     "execution_count": 99,
     "metadata": {},
     "output_type": "execute_result"
    }
   ],
   "source": [
    "new_gdf"
   ]
  },
  {
   "cell_type": "markdown",
   "metadata": {},
   "source": [
    "## Get values from a output timestep"
   ]
  },
  {
   "cell_type": "code",
   "execution_count": 4,
   "metadata": {},
   "outputs": [],
   "source": [
    "output = xr.open_dataset('temp/spill_properties_Marco.nc')\n",
    "\n",
    "rec = output.isel(time = 140)\n",
    "\n",
    "geom = []\n",
    "volume = []\n",
    "\n",
    "for p in range(0,len(rec.non_evaporative_volume)):\n",
    "\n",
    "    if rec.particle_status[p].values < 0:\n",
    "        geom.append(Point(rec.isel(parcel_id=p).longitude.values,rec.isel(parcel_id=p).latitude.values))\n",
    "        volume.append(rec.isel(parcel_id=p).non_evaporative_volume.values)\n",
    "    else:\n",
    "        pass"
   ]
  },
  {
   "cell_type": "code",
   "execution_count": 5,
   "metadata": {},
   "outputs": [],
   "source": [
    "shp = gpd.GeoDataFrame(data=volume,columns=['oil_volume'],geometry=geom,crs=4326)"
   ]
  },
  {
   "cell_type": "code",
   "execution_count": 6,
   "metadata": {},
   "outputs": [
    {
     "data": {
      "text/html": [
       "<div>\n",
       "<style scoped>\n",
       "    .dataframe tbody tr th:only-of-type {\n",
       "        vertical-align: middle;\n",
       "    }\n",
       "\n",
       "    .dataframe tbody tr th {\n",
       "        vertical-align: top;\n",
       "    }\n",
       "\n",
       "    .dataframe thead th {\n",
       "        text-align: right;\n",
       "    }\n",
       "</style>\n",
       "<table border=\"1\" class=\"dataframe\">\n",
       "  <thead>\n",
       "    <tr style=\"text-align: right;\">\n",
       "      <th></th>\n",
       "      <th>oil_volume</th>\n",
       "      <th>geometry</th>\n",
       "    </tr>\n",
       "  </thead>\n",
       "  <tbody>\n",
       "    <tr>\n",
       "      <th>0</th>\n",
       "      <td>0.282867</td>\n",
       "      <td>POINT (35.46811 33.89129)</td>\n",
       "    </tr>\n",
       "    <tr>\n",
       "      <th>1</th>\n",
       "      <td>0.197620</td>\n",
       "      <td>POINT (35.47954 33.87684)</td>\n",
       "    </tr>\n",
       "    <tr>\n",
       "      <th>2</th>\n",
       "      <td>0.261147</td>\n",
       "      <td>POINT (35.46869 33.89698)</td>\n",
       "    </tr>\n",
       "    <tr>\n",
       "      <th>3</th>\n",
       "      <td>0.246236</td>\n",
       "      <td>POINT (35.47185 33.88426)</td>\n",
       "    </tr>\n",
       "    <tr>\n",
       "      <th>4</th>\n",
       "      <td>0.291160</td>\n",
       "      <td>POINT (35.46743 33.89199)</td>\n",
       "    </tr>\n",
       "    <tr>\n",
       "      <th>...</th>\n",
       "      <td>...</td>\n",
       "      <td>...</td>\n",
       "    </tr>\n",
       "    <tr>\n",
       "      <th>17936</th>\n",
       "      <td>4.164224</td>\n",
       "      <td>POINT (35.47156 33.78109)</td>\n",
       "    </tr>\n",
       "    <tr>\n",
       "      <th>17937</th>\n",
       "      <td>4.327546</td>\n",
       "      <td>POINT (35.46841 33.77713)</td>\n",
       "    </tr>\n",
       "    <tr>\n",
       "      <th>17938</th>\n",
       "      <td>4.327546</td>\n",
       "      <td>POINT (35.46452 33.77037)</td>\n",
       "    </tr>\n",
       "    <tr>\n",
       "      <th>17939</th>\n",
       "      <td>4.241444</td>\n",
       "      <td>POINT (35.44789 33.74733)</td>\n",
       "    </tr>\n",
       "    <tr>\n",
       "      <th>17940</th>\n",
       "      <td>4.280584</td>\n",
       "      <td>POINT (35.46076 33.76531)</td>\n",
       "    </tr>\n",
       "  </tbody>\n",
       "</table>\n",
       "<p>17941 rows × 2 columns</p>\n",
       "</div>"
      ],
      "text/plain": [
       "       oil_volume                   geometry\n",
       "0        0.282867  POINT (35.46811 33.89129)\n",
       "1        0.197620  POINT (35.47954 33.87684)\n",
       "2        0.261147  POINT (35.46869 33.89698)\n",
       "3        0.246236  POINT (35.47185 33.88426)\n",
       "4        0.291160  POINT (35.46743 33.89199)\n",
       "...           ...                        ...\n",
       "17936    4.164224  POINT (35.47156 33.78109)\n",
       "17937    4.327546  POINT (35.46841 33.77713)\n",
       "17938    4.327546  POINT (35.46452 33.77037)\n",
       "17939    4.241444  POINT (35.44789 33.74733)\n",
       "17940    4.280584  POINT (35.46076 33.76531)\n",
       "\n",
       "[17941 rows x 2 columns]"
      ]
     },
     "execution_count": 6,
     "metadata": {},
     "output_type": "execute_result"
    }
   ],
   "source": [
    "shp"
   ]
  },
  {
   "cell_type": "code",
   "execution_count": 7,
   "metadata": {},
   "outputs": [
    {
     "data": {
      "text/plain": [
       "<Axes: >"
      ]
     },
     "execution_count": 7,
     "metadata": {},
     "output_type": "execute_result"
    },
    {
     "data": {
      "image/png": "[encoded data removed]",
      "text/plain": [
       "<Figure size 640x480 with 1 Axes>"
      ]
     },
     "metadata": {},
     "output_type": "display_data"
    }
   ],
   "source": [
    "shp.plot()"
   ]
  },
  {
   "cell_type": "code",
   "execution_count": 8,
   "metadata": {},
   "outputs": [
    {
     "data": {
      "text/plain": [
       "<Axes: >"
      ]
     },
     "execution_count": 8,
     "metadata": {},
     "output_type": "execute_result"
    },
    {
     "data": {
      "image/png": "[encoded data removed]",
      "text/plain": [
       "<Figure size 640x480 with 2 Axes>"
      ]
     },
     "metadata": {},
     "output_type": "display_data"
    }
   ],
   "source": [
    "shp.plot(column='oil_volume',legend=True)\n"
   ]
  },
  {
   "cell_type": "code",
   "execution_count": 47,
   "metadata": {},
   "outputs": [
    {
     "data": {
      "text/plain": [
       "<Axes: >"
      ]
     },
     "execution_count": 47,
     "metadata": {},
     "output_type": "execute_result"
    },
    {
     "data": {
      "image/png": "[encoded data removed]",
      "text/plain": [
       "<Figure size 640x480 with 1 Axes>"
      ]
     },
     "metadata": {},
     "output_type": "display_data"
    }
   ],
   "source": [
    "lines.plot()"
   ]
  },
  {
   "cell_type": "code",
   "execution_count": 100,
   "metadata": {},
   "outputs": [
    {
     "name": "stderr",
     "output_type": "stream",
     "text": [
      "/var/folders/k4/jt3tnjj96t551zphcp5z9t5w0000gp/T/ipykernel_97250/4078854856.py:2: UserWarning: CRS mismatch between the CRS of left geometries and the CRS of right geometries.\n",
      "Use `to_crs()` to reproject one of the input geometries to match the CRS of the other.\n",
      "\n",
      "Left CRS: EPSG:4326\n",
      "Right CRS: None\n",
      "\n",
      "  join = gpd.sjoin_nearest(shp,new_gdf,how='left')\n",
      "/Users/iatake/anaconda3/envs/ig/lib/python3.11/site-packages/geopandas/array.py:365: UserWarning: Geometry is in a geographic CRS. Results from 'sjoin_nearest' are likely incorrect. Use 'GeoSeries.to_crs()' to re-project geometries to a projected CRS before this operation.\n",
      "\n",
      "  warnings.warn(\n"
     ]
    }
   ],
   "source": [
    "# join = gpd.sjoin_nearest(shp,lines,how='left')\n",
    "join = gpd.sjoin_nearest(shp,new_gdf,how='left')"
   ]
  },
  {
   "cell_type": "code",
   "execution_count": 101,
   "metadata": {},
   "outputs": [
    {
     "data": {
      "text/html": [
       "<div>\n",
       "<style scoped>\n",
       "    .dataframe tbody tr th:only-of-type {\n",
       "        vertical-align: middle;\n",
       "    }\n",
       "\n",
       "    .dataframe tbody tr th {\n",
       "        vertical-align: top;\n",
       "    }\n",
       "\n",
       "    .dataframe thead th {\n",
       "        text-align: right;\n",
       "    }\n",
       "</style>\n",
       "<table border=\"1\" class=\"dataframe\">\n",
       "  <thead>\n",
       "    <tr style=\"text-align: right;\">\n",
       "      <th></th>\n",
       "      <th>oil_volume</th>\n",
       "      <th>geometry</th>\n",
       "      <th>index_right</th>\n",
       "      <th>geom</th>\n",
       "    </tr>\n",
       "  </thead>\n",
       "  <tbody>\n",
       "    <tr>\n",
       "      <th>0</th>\n",
       "      <td>0.282867</td>\n",
       "      <td>POINT (35.46811 33.89129)</td>\n",
       "      <td>236</td>\n",
       "      <td>LINESTRING (35.47198 33.88412, 35.46997 33.886...</td>\n",
       "    </tr>\n",
       "    <tr>\n",
       "      <th>0</th>\n",
       "      <td>0.282867</td>\n",
       "      <td>POINT (35.46811 33.89129)</td>\n",
       "      <td>237</td>\n",
       "      <td>LINESTRING (35.46787 33.88695, 35.46789 33.887...</td>\n",
       "    </tr>\n",
       "    <tr>\n",
       "      <th>1</th>\n",
       "      <td>0.197620</td>\n",
       "      <td>POINT (35.47954 33.87684)</td>\n",
       "      <td>231</td>\n",
       "      <td>LINESTRING (35.48037 33.86789, 35.48036 33.870...</td>\n",
       "    </tr>\n",
       "    <tr>\n",
       "      <th>2</th>\n",
       "      <td>0.261147</td>\n",
       "      <td>POINT (35.46869 33.89698)</td>\n",
       "      <td>238</td>\n",
       "      <td>LINESTRING (35.46835 33.89105, 35.46700 33.892...</td>\n",
       "    </tr>\n",
       "    <tr>\n",
       "      <th>2</th>\n",
       "      <td>0.261147</td>\n",
       "      <td>POINT (35.46869 33.89698)</td>\n",
       "      <td>239</td>\n",
       "      <td>LINESTRING (35.46661 33.89532, 35.46744 33.896...</td>\n",
       "    </tr>\n",
       "    <tr>\n",
       "      <th>...</th>\n",
       "      <td>...</td>\n",
       "      <td>...</td>\n",
       "      <td>...</td>\n",
       "      <td>...</td>\n",
       "    </tr>\n",
       "    <tr>\n",
       "      <th>17938</th>\n",
       "      <td>4.327546</td>\n",
       "      <td>POINT (35.46452 33.77037)</td>\n",
       "      <td>208</td>\n",
       "      <td>LINESTRING (35.45932 33.76385, 35.46117 33.765...</td>\n",
       "    </tr>\n",
       "    <tr>\n",
       "      <th>17938</th>\n",
       "      <td>4.327546</td>\n",
       "      <td>POINT (35.46452 33.77037)</td>\n",
       "      <td>209</td>\n",
       "      <td>LINESTRING (35.46263 33.76719, 35.46286 33.767...</td>\n",
       "    </tr>\n",
       "    <tr>\n",
       "      <th>17939</th>\n",
       "      <td>4.241444</td>\n",
       "      <td>POINT (35.44789 33.74733)</td>\n",
       "      <td>202</td>\n",
       "      <td>LINESTRING (35.44622 33.73944, 35.44622 33.741...</td>\n",
       "    </tr>\n",
       "    <tr>\n",
       "      <th>17939</th>\n",
       "      <td>4.241444</td>\n",
       "      <td>POINT (35.44789 33.74733)</td>\n",
       "      <td>203</td>\n",
       "      <td>LINESTRING (35.44703 33.74408, 35.44703 33.744...</td>\n",
       "    </tr>\n",
       "    <tr>\n",
       "      <th>17940</th>\n",
       "      <td>4.280584</td>\n",
       "      <td>POINT (35.46076 33.76531)</td>\n",
       "      <td>207</td>\n",
       "      <td>LINESTRING (35.45622 33.76056, 35.45622 33.760...</td>\n",
       "    </tr>\n",
       "  </tbody>\n",
       "</table>\n",
       "<p>29515 rows × 4 columns</p>\n",
       "</div>"
      ],
      "text/plain": [
       "       oil_volume                   geometry  index_right  \\\n",
       "0        0.282867  POINT (35.46811 33.89129)          236   \n",
       "0        0.282867  POINT (35.46811 33.89129)          237   \n",
       "1        0.197620  POINT (35.47954 33.87684)          231   \n",
       "2        0.261147  POINT (35.46869 33.89698)          238   \n",
       "2        0.261147  POINT (35.46869 33.89698)          239   \n",
       "...           ...                        ...          ...   \n",
       "17938    4.327546  POINT (35.46452 33.77037)          208   \n",
       "17938    4.327546  POINT (35.46452 33.77037)          209   \n",
       "17939    4.241444  POINT (35.44789 33.74733)          202   \n",
       "17939    4.241444  POINT (35.44789 33.74733)          203   \n",
       "17940    4.280584  POINT (35.46076 33.76531)          207   \n",
       "\n",
       "                                                    geom  \n",
       "0      LINESTRING (35.47198 33.88412, 35.46997 33.886...  \n",
       "0      LINESTRING (35.46787 33.88695, 35.46789 33.887...  \n",
       "1      LINESTRING (35.48037 33.86789, 35.48036 33.870...  \n",
       "2      LINESTRING (35.46835 33.89105, 35.46700 33.892...  \n",
       "2      LINESTRING (35.46661 33.89532, 35.46744 33.896...  \n",
       "...                                                  ...  \n",
       "17938  LINESTRING (35.45932 33.76385, 35.46117 33.765...  \n",
       "17938  LINESTRING (35.46263 33.76719, 35.46286 33.767...  \n",
       "17939  LINESTRING (35.44622 33.73944, 35.44622 33.741...  \n",
       "17939  LINESTRING (35.44703 33.74408, 35.44703 33.744...  \n",
       "17940  LINESTRING (35.45622 33.76056, 35.45622 33.760...  \n",
       "\n",
       "[29515 rows x 4 columns]"
      ]
     },
     "execution_count": 101,
     "metadata": {},
     "output_type": "execute_result"
    }
   ],
   "source": [
    "join"
   ]
  },
  {
   "cell_type": "code",
   "execution_count": 95,
   "metadata": {},
   "outputs": [
    {
     "data": {
      "text/html": [
       "<div>\n",
       "<style scoped>\n",
       "    .dataframe tbody tr th:only-of-type {\n",
       "        vertical-align: middle;\n",
       "    }\n",
       "\n",
       "    .dataframe tbody tr th {\n",
       "        vertical-align: top;\n",
       "    }\n",
       "\n",
       "    .dataframe thead th {\n",
       "        text-align: right;\n",
       "    }\n",
       "</style>\n",
       "<table border=\"1\" class=\"dataframe\">\n",
       "  <thead>\n",
       "    <tr style=\"text-align: right;\">\n",
       "      <th></th>\n",
       "      <th>oil_volume</th>\n",
       "    </tr>\n",
       "    <tr>\n",
       "      <th>index_right</th>\n",
       "      <th></th>\n",
       "    </tr>\n",
       "  </thead>\n",
       "  <tbody>\n",
       "    <tr>\n",
       "      <th>189</th>\n",
       "      <td>2.964816</td>\n",
       "    </tr>\n",
       "    <tr>\n",
       "      <th>190</th>\n",
       "      <td>1.365398</td>\n",
       "    </tr>\n",
       "    <tr>\n",
       "      <th>191</th>\n",
       "      <td>1.510924</td>\n",
       "    </tr>\n",
       "    <tr>\n",
       "      <th>192</th>\n",
       "      <td>7.861864</td>\n",
       "    </tr>\n",
       "    <tr>\n",
       "      <th>193</th>\n",
       "      <td>38.940285</td>\n",
       "    </tr>\n",
       "    <tr>\n",
       "      <th>...</th>\n",
       "      <td>...</td>\n",
       "    </tr>\n",
       "    <tr>\n",
       "      <th>282</th>\n",
       "      <td>17.815481</td>\n",
       "    </tr>\n",
       "    <tr>\n",
       "      <th>283</th>\n",
       "      <td>7.729180</td>\n",
       "    </tr>\n",
       "    <tr>\n",
       "      <th>284</th>\n",
       "      <td>1.209210</td>\n",
       "    </tr>\n",
       "    <tr>\n",
       "      <th>1104</th>\n",
       "      <td>18.597013</td>\n",
       "    </tr>\n",
       "    <tr>\n",
       "      <th>1106</th>\n",
       "      <td>17.541586</td>\n",
       "    </tr>\n",
       "  </tbody>\n",
       "</table>\n",
       "<p>86 rows × 1 columns</p>\n",
       "</div>"
      ],
      "text/plain": [
       "             oil_volume\n",
       "index_right            \n",
       "189            2.964816\n",
       "190            1.365398\n",
       "191            1.510924\n",
       "192            7.861864\n",
       "193           38.940285\n",
       "...                 ...\n",
       "282           17.815481\n",
       "283            7.729180\n",
       "284            1.209210\n",
       "1104          18.597013\n",
       "1106          17.541586\n",
       "\n",
       "[86 rows x 1 columns]"
      ]
     },
     "execution_count": 95,
     "metadata": {},
     "output_type": "execute_result"
    }
   ],
   "source": [
    "join.groupby('index_right').sum('oil_volume')"
   ]
  },
  {
   "cell_type": "code",
   "execution_count": 103,
   "metadata": {},
   "outputs": [
    {
     "data": {
      "text/plain": [
       "<Axes: >"
      ]
     },
     "execution_count": 103,
     "metadata": {},
     "output_type": "execute_result"
    },
    {
     "data": {
      "image/png": "[encoded data removed]",
      "text/plain": [
       "<Figure size 640x480 with 2 Axes>"
      ]
     },
     "metadata": {},
     "output_type": "display_data"
    }
   ],
   "source": [
    "join['geometry'] = join.geom\n",
    "join.plot(column = 'oil_volume',legend=True)"
   ]
  },
  {
   "cell_type": "code",
   "execution_count": null,
   "metadata": {},
   "outputs": [],
   "source": []
  }
 ],
 "metadata": {
  "kernelspec": {
   "display_name": "base",
   "language": "python",
   "name": "python3"
  },
  "language_info": {
   "codemirror_mode": {
    "name": "ipython",
    "version": 3
   },
   "file_extension": ".py",
   "mimetype": "text/x-python",
   "name": "python",
   "nbconvert_exporter": "python",
   "pygments_lexer": "ipython3",
   "version": "3.11.7"
  }
 },
 "nbformat": 4,
 "nbformat_minor": 2
}
