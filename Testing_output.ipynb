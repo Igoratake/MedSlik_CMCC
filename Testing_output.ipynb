{
 "cells": [
  {
   "cell_type": "code",
   "execution_count": null,
   "id": "8190cdf7-c697-4c3e-a291-be11ad136462",
   "metadata": {},
   "outputs": [],
   "source": [
    "# %matplotlib notebook\n",
    "\n",
    "import xarray as xr\n",
    "import geopandas as gpd\n",
    "import matplotlib.pyplot as plt\n",
    "import numpy as np\n",
    "import pandas as pd\n",
    "from shapely.geometry import LineString, Point, Polygon\n",
    "\n",
    "import matplotlib\n",
    "norm = matplotlib.colors.Normalize()\n",
    "\n",
    "%matplotlib inline\n",
    "\n",
    "from shapely.geometry import box, Polygon\n",
    "\n",
    "land = gpd.read_file('data/gshhs/f/GSHHS_f_L1.shp')"
   ]
  },
  {
   "cell_type": "markdown",
   "metadata": {},
   "source": [
    "# 3.01"
   ]
  },
  {
   "cell_type": "markdown",
   "metadata": {},
   "source": [
    "## LEBANON"
   ]
  },
  {
   "cell_type": "code",
   "execution_count": null,
   "metadata": {},
   "outputs": [],
   "source": [
    "path = 'cases/lebanon_remake/out_files/MDK_SIM_2006_07_13_0800_lebanon_remake/'\n",
    "filename = path + 'spill_properties.nc'\n",
    "ds = xr.open_dataset(filename)\n",
    "\n",
    "lon_min,lon_max = 35,36\n",
    "lat_min,lat_max = 33,34.5\n",
    "\n",
    "rec = land.cx[lon_min:lon_max, lat_min:lat_max]\n",
    "\n",
    "for t in range(0,480):\n",
    "# t = 1\n",
    "    dss = ds.isel(time=t)\n",
    "\n",
    "    \n",
    "    fig, ax = plt.subplots(figsize=(10, 8))\n",
    "    ax.set_facecolor('#ADD8E6')\n",
    "    rec.plot(ax=ax,color=\"#FFFDD0\", edgecolor='black', zorder = 1000)\n",
    "    ax.scatter(dss.longitude,dss.latitude,dss.non_evaporative_volume,color='r')\n",
    "    \n",
    "    plt.xlim(lon_min,lon_max)\n",
    "    plt.ylim(lat_min,lat_max)\n",
    "\n",
    "    plt.xlabel('Longitude')\n",
    "    plt.ylabel('Latitude')\n",
    "\n",
    "    plt.title(f'time={t}')\n",
    "\n",
    "    plt.grid()\n",
    "\n",
    "    plt.savefig(f'{path}/figures/fig_test_{t:03d}.png',dpi=50)"
   ]
  },
  {
   "cell_type": "markdown",
   "metadata": {},
   "source": [
    "### PARIA"
   ]
  },
  {
   "cell_type": "code",
   "execution_count": null,
   "metadata": {},
   "outputs": [],
   "source": [
    "path = '/work/opa/ia19223/Medslik-II/cases/paria/out_files/MDK_SIM_2017_04_24_1300_paria_casestudy/'\n",
    "filename = path + 'spill_properties.nc'\n",
    "ds = xr.open_dataset(filename)\n",
    "\n",
    "lon_min,lon_max = -64.1,-63.5\n",
    "lat_min,lat_max = 10.6,11\n",
    "\n",
    "rec = land.cx[lon_min:lon_max, lat_min:lat_max]\n",
    "\n",
    "for t in range(0,48):\n",
    "# t = 1\n",
    "    dss = ds.isel(time=t)\n",
    "\n",
    "    \n",
    "    fig, ax = plt.subplots(figsize=(10, 8))\n",
    "    ax.set_facecolor('#ADD8E6')\n",
    "    rec.plot(ax=ax,color=\"#FFFDD0\", edgecolor='black', zorder = 1000)\n",
    "    ax.scatter(dss.longitude,dss.latitude,dss.non_evaporative_volume,color='r')\n",
    "    \n",
    "    plt.xlim(lon_min,lon_max)\n",
    "    plt.ylim(lat_min,lat_max)\n",
    "\n",
    "    plt.xlabel('Longitude')\n",
    "    plt.ylabel('Latitude')\n",
    "\n",
    "    plt.title(f'time={t}')\n",
    "\n",
    "    plt.grid()\n",
    "\n",
    "    plt.savefig(f'{path}/figures/fig_test_{t:03d}.png',dpi=50)"
   ]
  },
  {
   "cell_type": "markdown",
   "metadata": {},
   "source": [
    "### PARIA REMAKE"
   ]
  },
  {
   "cell_type": "code",
   "execution_count": null,
   "metadata": {},
   "outputs": [],
   "source": [
    "path = '/work/opa/ia19223/Medslik-II/cases/paria_remake/out_files/MDK_SIM_2017_04_24_1300_paria_remake/'\n",
    "filename = path + 'spill_properties.nc'\n",
    "ds = xr.open_dataset(filename)\n",
    "\n",
    "lon_min,lon_max = -64.1,-63.5\n",
    "lat_min,lat_max = 10.6,11\n",
    "\n",
    "rec = land.cx[lon_min:lon_max, lat_min:lat_max]\n",
    "\n",
    "for t in range(0,48):\n",
    "# t = 1\n",
    "    dss = ds.isel(time=t)\n",
    "\n",
    "    \n",
    "    fig, ax = plt.subplots(figsize=(10, 8))\n",
    "    ax.set_facecolor('#ADD8E6')\n",
    "    rec.plot(ax=ax,color=\"#FFFDD0\", edgecolor='black', zorder = 1000)\n",
    "    ax.scatter(dss.longitude,dss.latitude,dss.non_evaporative_volume,color='r')\n",
    "    \n",
    "    plt.xlim(lon_min,lon_max)\n",
    "    plt.ylim(lat_min,lat_max)\n",
    "\n",
    "    plt.xlabel('Longitude')\n",
    "    plt.ylabel('Latitude')\n",
    "\n",
    "    plt.title(f'time={t}')\n",
    "\n",
    "    plt.grid()\n",
    "\n",
    "    plt.savefig(f'{path}/figures/fig_test_{t:03d}.png',dpi=50)"
   ]
  },
  {
   "cell_type": "markdown",
   "metadata": {},
   "source": [
    "### Test in Sicilia"
   ]
  },
  {
   "cell_type": "code",
   "execution_count": null,
   "metadata": {},
   "outputs": [],
   "source": [
    "path = '/work/opa/ia19223/Medslik-II/MEDSLIK_II_3.01/OUT/MDK_SIM_2022_04_28_1300_South_Sicilia/'\n",
    "filename = path + 'spill_properties.nc'\n",
    "ds = xr.open_dataset(filename)\n",
    "\n",
    "lon_min,lon_max = 13,14\n",
    "lat_min,lat_max = 36,37\n",
    "\n",
    "rec = land.cx[lon_min:lon_max, lat_min:lat_max]\n",
    "\n",
    "for t in range(0,48):\n",
    "# t = 1\n",
    "    dss = ds.isel(time=t)\n",
    "    \n",
    "    fig, ax = plt.subplots(figsize=(10, 8))\n",
    "    ax.set_facecolor('#ADD8E6')\n",
    "    rec.plot(ax=ax,color=\"#FFFDD0\", edgecolor='black', zorder = 1000,aspect=1)\n",
    "    ax.scatter(dss.longitude,dss.latitude,dss.non_evaporative_volume,color='r')\n",
    "    \n",
    "    plt.xlim(lon_min,lon_max)\n",
    "    plt.ylim(lat_min,lat_max)\n",
    "\n",
    "    plt.xlabel('Longitude')\n",
    "    plt.ylabel('Latitude')\n",
    "\n",
    "    plt.title(f'time={t}')\n",
    "\n",
    "    plt.grid()\n",
    "\n",
    "    plt.savefig(f'{path}/figures/fig_test_{t:03d}.png',dpi=50)"
   ]
  },
  {
   "cell_type": "markdown",
   "metadata": {},
   "source": [
    "# Test in Taranto"
   ]
  },
  {
   "cell_type": "markdown",
   "metadata": {},
   "source": [
    "## WITOIL"
   ]
  },
  {
   "cell_type": "code",
   "execution_count": null,
   "metadata": {},
   "outputs": [],
   "source": [
    "path = '/work/opa/ia19223/Medslik-II/cases/taranto_witoil/witoil/OUT/MERCATOR_global_2023_11_23_1300_/'\n",
    "filename = path + 'spill_properties.nc'\n",
    "ds = xr.open_dataset(filename)\n",
    "\n",
    "ds"
   ]
  },
  {
   "cell_type": "code",
   "execution_count": null,
   "metadata": {},
   "outputs": [],
   "source": [
    "path = '/work/opa/ia19223/Medslik-II/cases/taranto_witoil/witoil/OUT/MERCATOR_global_2023_11_23_1300_/'\n",
    "filename = path + 'spill_properties.nc'\n",
    "ds = xr.open_dataset(filename)\n",
    "\n",
    "lon_min,lon_max = 17,17.5\n",
    "lat_min,lat_max = 40,40.7\n",
    "\n",
    "rec = land.cx[lon_min:lon_max, lat_min:lat_max]\n",
    "\n",
    "for t in range(0,24):\n",
    "# t = 1\n",
    "    dss = ds.isel(time=t)\n",
    "    \n",
    "    fig, ax = plt.subplots(figsize=(10, 8))\n",
    "    ax.set_facecolor('#ADD8E6')\n",
    "    rec.plot(ax=ax,color=\"#FFFDD0\", edgecolor='black', zorder = 1000,aspect=1)\n",
    "    ax.scatter(dss.longitude,dss.latitude,dss.non_evaporative_volume,color='r')\n",
    "    \n",
    "    plt.xlim(lon_min,lon_max)\n",
    "    plt.ylim(lat_min,lat_max)\n",
    "\n",
    "    plt.xlabel('Longitude')\n",
    "    plt.ylabel('Latitude')\n",
    "\n",
    "    plt.title(f'time={t}')\n",
    "\n",
    "    plt.grid()\n",
    "\n",
    "    plt.savefig(f'{path}/figures/fig_test_{t:03d}.png',dpi=50)"
   ]
  },
  {
   "cell_type": "markdown",
   "metadata": {},
   "source": [
    "## MANUAL"
   ]
  },
  {
   "cell_type": "code",
   "execution_count": null,
   "metadata": {},
   "outputs": [],
   "source": [
    "path = '/work/opa/ia19223/Medslik-II/cases/taranto_manual/out_files/MDK_SIM_2023_11_23_1300_taranto_manual/'\n",
    "filename = path + 'spill_properties.nc'\n",
    "ds = xr.open_dataset(filename)\n",
    "\n",
    "lon_min,lon_max = 17,17.5\n",
    "lat_min,lat_max = 40,40.7\n",
    "\n",
    "rec = land.cx[lon_min:lon_max, lat_min:lat_max]\n",
    "\n",
    "for t in range(0,24):\n",
    "# t = 1\n",
    "    dss = ds.isel(time=t)\n",
    "    \n",
    "    fig, ax = plt.subplots(figsize=(10, 8))\n",
    "    ax.set_facecolor('#ADD8E6')\n",
    "    rec.plot(ax=ax,color=\"#FFFDD0\", edgecolor='black', zorder = 1000,aspect=1)\n",
    "    ax.scatter(dss.longitude,dss.latitude,dss.non_evaporative_volume,color='r')\n",
    "    \n",
    "    plt.xlim(lon_min,lon_max)\n",
    "    plt.ylim(lat_min,lat_max)\n",
    "\n",
    "    plt.xlabel('Longitude')\n",
    "    plt.ylabel('Latitude')\n",
    "\n",
    "    plt.title(f'time={t}')\n",
    "\n",
    "    plt.grid()\n",
    "\n",
    "    plt.savefig(f'{path}/figures/fig_test_{t:03d}.png',dpi=50)"
   ]
  },
  {
   "cell_type": "markdown",
   "id": "b8963760",
   "metadata": {},
   "source": [
    "# Plotting Ascii files"
   ]
  },
  {
   "cell_type": "markdown",
   "id": "c6743b8e",
   "metadata": {},
   "source": [
    "## Bath Files"
   ]
  },
  {
   "cell_type": "code",
   "execution_count": null,
   "metadata": {},
   "outputs": [],
   "source": [
    "def plot_bath(path):\n",
    "    raw = pd.read_csv(path)\n",
    "    #coordinates\n",
    "    temp = raw.iloc[0,0].split(' ')\n",
    "    coords = [float(value) if value else 0 for value in temp]\n",
    "    coords = coords[:-1]\n",
    "\n",
    "    lat_min, lat_max = coords[0],coords[1]\n",
    "    lon_min, lon_max = coords[2],coords[3]\n",
    "\n",
    "    #grid elements\n",
    "    temp = raw.iloc[1,0].split(' ')\n",
    "    elements = [int(value) if value else 0 for value in temp]\n",
    "    elements[:-1]\n",
    "\n",
    "    y_elem, x_elem = elements[0], elements[1]\n",
    "\n",
    "    y = np.linspace(lat_min,lat_max,y_elem)\n",
    "    x = np.linspace(lon_max,lon_min,x_elem)\n",
    "\n",
    "    xx,yy = np.meshgrid(y,x)\n",
    "\n",
    "    values = pd.read_csv(path,skiprows=2)\n",
    "\n",
    "    #reshaped matrix\n",
    "    reshaped = values.values.squeeze().reshape((x_elem,y_elem))\n",
    "\n",
    "    dep = np.ma.masked_where(reshaped > 8000,reshaped)\n",
    "\n",
    "    plt.figure()\n",
    "    plt.pcolormesh(xx,yy,dep)\n",
    "    plt.colorbar()\n"
   ]
  },
  {
   "cell_type": "code",
   "execution_count": null,
   "id": "0cd3d223",
   "metadata": {},
   "outputs": [],
   "source": [
    "# %matplotlib widget"
   ]
  },
  {
   "cell_type": "code",
   "execution_count": null,
   "id": "69172536",
   "metadata": {},
   "outputs": [],
   "source": [
    "plot_bath('cases/taranto_manual/bnc_files/dtm.bath')"
   ]
  },
  {
   "cell_type": "code",
   "execution_count": null,
   "id": "ec894cf7",
   "metadata": {},
   "outputs": [],
   "source": [
    "plot_bath('cases/taranto_witoil/witoil/DTM_INP/vnzl_.bath')"
   ]
  },
  {
   "cell_type": "markdown",
   "id": "4d7ed4c6",
   "metadata": {},
   "source": [
    "## Map files"
   ]
  },
  {
   "cell_type": "code",
   "execution_count": null,
   "id": "7e29a078",
   "metadata": {},
   "outputs": [],
   "source": [
    "def plot_map(file_path):\n",
    "    # Read the file, skipping lines ending with 0\n",
    "\n",
    "    columns = ['Longitude', 'Latitude']\n",
    "    df = pd.read_csv(file_path, delim_whitespace=True, header=None, names=columns,skiprows=1)\n",
    "\n",
    "    df['label'] = np.NaN\n",
    "    df['Latitude'] = df['Latitude'].replace(0, np.nan)\n",
    "\n",
    "    # Initialize counter variable for labels\n",
    "    label_counter = 1\n",
    "\n",
    "    # Iterate through rows and update 'label' when 'Latitude' is NaN\n",
    "    for index, row in df.iterrows():\n",
    "        if pd.isna(row['Latitude']):\n",
    "            df.at[index, 'label'] = label_counter\n",
    "            label_counter += 1\n",
    "\n",
    "    df['label'] = df.label.ffill()\n",
    "\n",
    "    df = df.dropna()\n",
    "\n",
    "    # # Create a GeoDataFrame with LineString geometries\n",
    "    geometry = [Point(xy) for xy in zip(df['Longitude'], df['Latitude'])]\n",
    "\n",
    "    gdf = gpd.GeoDataFrame(df,geometry=geometry)\n",
    "\n",
    "    df_pol = gdf.groupby('label')['geometry'].apply(lambda x: Polygon(x.tolist())).reset_index()\n",
    "\n",
    "    # Declare the result as a new a GeoDataFrame\n",
    "    gdf_pol = gpd.GeoDataFrame(df_pol, geometry = 'geometry')\n",
    "\n",
    "    gdf_pol.plot()\n"
   ]
  },
  {
   "cell_type": "code",
   "execution_count": null,
   "id": "d68988f9",
   "metadata": {},
   "outputs": [],
   "source": [
    "%matplotlib widget\n",
    "# %matplotlib inline"
   ]
  },
  {
   "cell_type": "code",
   "execution_count": null,
   "id": "e087b143",
   "metadata": {},
   "outputs": [],
   "source": [
    "plot_map('/work/opa/ia19223/Medslik-II/cases/taranto_manual/bnc_files/dtm.map')"
   ]
  },
  {
   "cell_type": "code",
   "execution_count": null,
   "id": "ba1e54b3",
   "metadata": {},
   "outputs": [],
   "source": [
    "plot_map('/work/opa/ia19223/Medslik-II/cases/taranto_witoil/witoil/DTM_INP/vnzl.map')\n"
   ]
  },
  {
   "cell_type": "markdown",
   "id": "edf618d7",
   "metadata": {},
   "source": [
    "## Mrc files"
   ]
  },
  {
   "cell_type": "code",
   "execution_count": null,
   "id": "585306b0",
   "metadata": {},
   "outputs": [],
   "source": []
  }
 ],
 "metadata": {
  "kernelspec": {
   "display_name": "Python 3 (ipykernel)",
   "language": "python",
   "name": "python3"
  },
  "language_info": {
   "codemirror_mode": {
    "name": "ipython",
    "version": 3
   },
   "file_extension": ".py",
   "mimetype": "text/x-python",
   "name": "python",
   "nbconvert_exporter": "python",
   "pygments_lexer": "ipython3",
   "version": "3.11.5"
  }
 },
 "nbformat": 4,
 "nbformat_minor": 5
}
