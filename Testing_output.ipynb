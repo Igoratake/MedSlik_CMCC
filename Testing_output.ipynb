{
 "cells": [
  {
   "cell_type": "code",
   "execution_count": null,
   "id": "8190cdf7-c697-4c3e-a291-be11ad136462",
   "metadata": {},
   "outputs": [],
   "source": [
    "# %matplotlib notebook\n",
    "\n",
    "import xarray as xr\n",
    "import geopandas as gpd\n",
    "import matplotlib.pyplot as plt\n",
    "import numpy as np\n",
    "\n",
    "import matplotlib\n",
    "norm = matplotlib.colors.Normalize()\n",
    "\n",
    "%matplotlib inline\n",
    "\n",
    "from shapely.geometry import box, Polygon\n",
    "\n",
    "land = gpd.read_file('data/gshhs/f/GSHHS_f_L1.shp')"
   ]
  },
  {
   "cell_type": "markdown",
   "metadata": {},
   "source": [
    "# VERSION 1.02\n"
   ]
  },
  {
   "cell_type": "markdown",
   "metadata": {},
   "source": [
    "## ORIGINAL"
   ]
  },
  {
   "cell_type": "markdown",
   "metadata": {},
   "source": [
    "### LEBANON - EULER"
   ]
  },
  {
   "cell_type": "code",
   "execution_count": null,
   "id": "fe75041f-64d9-4d65-bc0b-5aa9e6e1069a",
   "metadata": {},
   "outputs": [],
   "source": [
    "path = '/Users/iatake/Downloads/Simulation results/V1.02/original/Lebanon_test_case/OUTPUT/EULER/'\n",
    "filename = path + 'lib_.nc'\n",
    "ds = xr.open_dataset(filename)\n",
    "\n",
    "lon_min,lon_max = 35,36\n",
    "lat_min,lat_max = 33,34.5\n",
    "\n",
    "rec = land.cx[lon_min:lon_max, lat_min:lat_max]\n",
    "\n",
    "for t in range(0,480):\n",
    "# t = 1\n",
    "    dss = ds.isel(time = t)\n",
    "    dss['x_oil'] = dss.lon_oil\n",
    "    dss['y_oil'] = dss.lat_oil\n",
    "    dss = xr.where(dss.surface > 0.1, dss.surface,np.nan)\n",
    "    fig, ax = plt.subplots(figsize=(10, 8))\n",
    "    ax.set_aspect('equal')\n",
    "    ax.set_facecolor('#ADD8E6')\n",
    "    rec.plot(ax=ax,color=\"#FFFDD0\", edgecolor='black', zorder = 1000)\n",
    "    dss.plot(ax=ax)\n",
    "\n",
    "    plt.xlim(lon_min,lon_max)\n",
    "    plt.ylim(lat_min,lat_max)\n",
    "\n",
    "    plt.xlabel('Longitude')\n",
    "    plt.ylabel('Latitude')\n",
    "\n",
    "    plt.grid()\n",
    "\n",
    "    plt.savefig(f'{path}/figures/fig_test_{t:03d}.png',dpi=50)"
   ]
  },
  {
   "cell_type": "markdown",
   "metadata": {},
   "source": [
    "### ALGERIA"
   ]
  },
  {
   "cell_type": "code",
   "execution_count": null,
   "metadata": {},
   "outputs": [],
   "source": [
    "path = 'V1.02/original/Algeria_test_case/OUTPUT/'\n",
    "filename = path + 'alg_.nc'\n",
    "ds = xr.open_dataset(filename)\n",
    "\n",
    "lon_min,lon_max = 5,7\n",
    "lat_min,lat_max = 36.5,39\n",
    "\n",
    "rec = land.cx[lon_min:lon_max, lat_min:lat_max]\n",
    "\n",
    "for t in range(0,37):\n",
    "# t = 1\n",
    "    dss = ds.isel(time = t)\n",
    "    dss['x_oil'] = dss.lon_oil\n",
    "    dss['y_oil'] = dss.lat_oil\n",
    "    dss = xr.where(dss.surface > 0.1, dss.surface,np.nan)\n",
    "    fig, ax = plt.subplots(figsize=(10, 8))\n",
    "    ax.set_aspect('equal')\n",
    "    ax.set_facecolor('#ADD8E6')\n",
    "    rec.plot(ax=ax,color=\"#FFFDD0\", edgecolor='black', zorder = 1000)\n",
    "    dss.plot(ax=ax)\n",
    "\n",
    "    plt.xlim(lon_min,lon_max)\n",
    "    plt.ylim(lat_min,lat_max)\n",
    "\n",
    "    plt.xlabel('Longitude')\n",
    "    plt.ylabel('Latitude')\n",
    "\n",
    "    plt.grid()\n",
    "\n",
    "    plt.savefig(f'{path}/figures/fig_test_{t:03d}.png',dpi=50)"
   ]
  },
  {
   "cell_type": "markdown",
   "metadata": {},
   "source": [
    "## RERUN"
   ]
  },
  {
   "cell_type": "markdown",
   "metadata": {},
   "source": [
    "### ALGERIA"
   ]
  },
  {
   "cell_type": "code",
   "execution_count": null,
   "metadata": {},
   "outputs": [],
   "source": [
    "path = 'V1.02/rerun/MEDSLIKII_2008_08_06_0951_ALGERIA_testcase/'\n",
    "filename = path + 'alg_.nc'\n",
    "ds = xr.open_dataset(filename)\n",
    "\n",
    "lon_min,lon_max = 5,7\n",
    "lat_min,lat_max = 36.5,39\n",
    "\n",
    "rec = land.cx[lon_min:lon_max, lat_min:lat_max]\n",
    "\n",
    "for t in range(0,37):\n",
    "# t = 1\n",
    "    dss = ds.isel(time = t)\n",
    "    dss['x_oil'] = dss.lon_oil\n",
    "    dss['y_oil'] = dss.lat_oil\n",
    "    dss = xr.where(dss.surface > 0.1, dss.surface,np.nan)\n",
    "    fig, ax = plt.subplots(figsize=(10, 8))\n",
    "    ax.set_aspect('equal')\n",
    "    ax.set_facecolor('#ADD8E6')\n",
    "    rec.plot(ax=ax,color=\"#FFFDD0\", edgecolor='black', zorder = 1000)\n",
    "    dss.plot(ax=ax)\n",
    "\n",
    "    plt.xlim(lon_min,lon_max)\n",
    "    plt.ylim(lat_min,lat_max)\n",
    "\n",
    "    plt.xlabel('Longitude')\n",
    "    plt.ylabel('Latitude')\n",
    "\n",
    "    plt.grid()\n",
    "\n",
    "    plt.savefig(f'{path}/figures/fig_test_{t:03d}.png',dpi=50)"
   ]
  },
  {
   "cell_type": "markdown",
   "metadata": {},
   "source": [
    "# VERSION 2.00"
   ]
  },
  {
   "cell_type": "markdown",
   "metadata": {},
   "source": [
    "## ORIGINAL"
   ]
  },
  {
   "cell_type": "markdown",
   "metadata": {},
   "source": [
    "## RERUN"
   ]
  },
  {
   "cell_type": "markdown",
   "metadata": {},
   "source": [
    "# VERSION 2.01"
   ]
  },
  {
   "cell_type": "markdown",
   "metadata": {},
   "source": [
    "## ORIGINAL"
   ]
  },
  {
   "cell_type": "markdown",
   "metadata": {},
   "source": [
    "### PARIA\n"
   ]
  },
  {
   "cell_type": "code",
   "execution_count": null,
   "metadata": {},
   "outputs": [],
   "source": [
    "path = 'V2.01/original/paria_casestudy/OUT/MERCATOR_global_2017_04_24_1300_paria_casestudy/'\n",
    "filename = path + 'spill_properties.nc'\n",
    "ds = xr.open_dataset(filename)\n",
    "\n",
    "lon_min,lon_max = -64.1,-63.5\n",
    "lat_min,lat_max = 10.6,11\n",
    "\n",
    "rec = land.cx[lon_min:lon_max, lat_min:lat_max]\n",
    "\n",
    "for t in range(0,48):\n",
    "# t = 1\n",
    "    dss = ds.isel(time=t)\n",
    "\n",
    "    \n",
    "    fig, ax = plt.subplots(figsize=(10, 8))\n",
    "    ax.set_facecolor('#ADD8E6')\n",
    "    rec.plot(ax=ax,color=\"#FFFDD0\", edgecolor='black', zorder = 1000)\n",
    "    ax.scatter(dss.longitude,dss.latitude,dss.non_evaporative_volume,color='r')\n",
    "    \n",
    "    plt.xlim(lon_min,lon_max)\n",
    "    plt.ylim(lat_min,lat_max)\n",
    "\n",
    "    plt.xlabel('Longitude')\n",
    "    plt.ylabel('Latitude')\n",
    "\n",
    "    plt.title(f'time={t}')\n",
    "\n",
    "    plt.grid()\n",
    "\n",
    "    plt.savefig(f'{path}/figures/fig_test_{t:03d}.png',dpi=50)"
   ]
  },
  {
   "cell_type": "markdown",
   "metadata": {},
   "source": [
    "## RERUN"
   ]
  },
  {
   "cell_type": "markdown",
   "metadata": {},
   "source": [
    "### PARIA"
   ]
  },
  {
   "cell_type": "code",
   "execution_count": null,
   "metadata": {},
   "outputs": [],
   "source": [
    "path = 'V2.01/rerun/MERCATOR_global_2017_04_24_1300_paria_casestudy/'\n",
    "filename = path + 'spill_properties.nc'\n",
    "ds = xr.open_dataset(filename)\n",
    "\n",
    "lon_min,lon_max = -64.1,-63.5\n",
    "lat_min,lat_max = 10.6,11\n",
    "\n",
    "rec = land.cx[lon_min:lon_max, lat_min:lat_max]\n",
    "\n",
    "for t in range(0,48):\n",
    "# t = 1\n",
    "    dss = ds.isel(time=t)\n",
    "\n",
    "    \n",
    "    fig, ax = plt.subplots(figsize=(10, 8))\n",
    "    ax.set_facecolor('#ADD8E6')\n",
    "    rec.plot(ax=ax,color=\"#FFFDD0\", edgecolor='black', zorder = 1000)\n",
    "    ax.scatter(dss.longitude,dss.latitude,dss.non_evaporative_volume,color='r')\n",
    "    \n",
    "    plt.xlim(lon_min,lon_max)\n",
    "    plt.ylim(lat_min,lat_max)\n",
    "\n",
    "    plt.xlabel('Longitude')\n",
    "    plt.ylabel('Latitude')\n",
    "\n",
    "    plt.title(f'time={t}')\n",
    "\n",
    "    plt.grid()\n",
    "\n",
    "    plt.savefig(f'{path}/figures/fig_test_{t:03d}.png',dpi=50)"
   ]
  },
  {
   "cell_type": "markdown",
   "metadata": {},
   "source": [
    "### LEBANON"
   ]
  },
  {
   "cell_type": "code",
   "execution_count": null,
   "metadata": {},
   "outputs": [],
   "source": [
    "path = 'cases/lebanon/out_files/MDK_SIM_2006_07_13_0800_lebanon/'\n",
    "filename = path + 'spill_properties.nc'\n",
    "ds = xr.open_dataset(filename)\n",
    "\n",
    "lon_min,lon_max = 35,36\n",
    "lat_min,lat_max = 33,34.5\n",
    "\n",
    "rec = land.cx[lon_min:lon_max, lat_min:lat_max]\n",
    "\n",
    "for t in range(0,480):\n",
    "# t = 1\n",
    "    dss = ds.isel(time=t)\n",
    "\n",
    "    \n",
    "    fig, ax = plt.subplots(figsize=(10, 8))\n",
    "    ax.set_facecolor('#ADD8E6')\n",
    "    rec.plot(ax=ax,color=\"#FFFDD0\", edgecolor='black', zorder = 1000)\n",
    "    ax.scatter(dss.longitude,dss.latitude,dss.non_evaporative_volume,color='r')\n",
    "    \n",
    "    plt.xlim(lon_min,lon_max)\n",
    "    plt.ylim(lat_min,lat_max)\n",
    "\n",
    "    plt.xlabel('Longitude')\n",
    "    plt.ylabel('Latitude')\n",
    "\n",
    "    plt.title(f'time={t}')\n",
    "\n",
    "    plt.grid()\n",
    "\n",
    "    plt.savefig(f'{path}/figures/fig_test_{t:03d}.png',dpi=50)"
   ]
  },
  {
   "cell_type": "markdown",
   "metadata": {},
   "source": [
    "# 3.01"
   ]
  },
  {
   "cell_type": "code",
   "execution_count": 5,
   "metadata": {},
   "outputs": [
    {
     "name": "stderr",
     "output_type": "stream",
     "text": [
      "/tmp/ipykernel_2856737/3910223424.py:15: RuntimeWarning: More than 20 figures have been opened. Figures created through the pyplot interface (`matplotlib.pyplot.figure`) are retained until explicitly closed and may consume too much memory. (To control this warning, see the rcParam `figure.max_open_warning`). Consider using `matplotlib.pyplot.close()`.\n",
      "  fig, ax = plt.subplots(figsize=(10, 8))\n"
     ]
    }
   ],
   "source": [
    "path = 'cases/lebanon_remake/out_files/MDK_SIM_2006_07_13_0800_lebanon_remake/'\n",
    "filename = path + 'spill_properties.nc'\n",
    "ds = xr.open_dataset(filename)\n",
    "\n",
    "lon_min,lon_max = 35,36\n",
    "lat_min,lat_max = 33,34.5\n",
    "\n",
    "rec = land.cx[lon_min:lon_max, lat_min:lat_max]\n",
    "\n",
    "for t in range(0,480):\n",
    "# t = 1\n",
    "    dss = ds.isel(time=t)\n",
    "\n",
    "    \n",
    "    fig, ax = plt.subplots(figsize=(10, 8))\n",
    "    ax.set_facecolor('#ADD8E6')\n",
    "    rec.plot(ax=ax,color=\"#FFFDD0\", edgecolor='black', zorder = 1000)\n",
    "    ax.scatter(dss.longitude,dss.latitude,dss.non_evaporative_volume,color='r')\n",
    "    \n",
    "    plt.xlim(lon_min,lon_max)\n",
    "    plt.ylim(lat_min,lat_max)\n",
    "\n",
    "    plt.xlabel('Longitude')\n",
    "    plt.ylabel('Latitude')\n",
    "\n",
    "    plt.title(f'time={t}')\n",
    "\n",
    "    plt.grid()\n",
    "\n",
    "    plt.savefig(f'{path}/figures/fig_test_{t:03d}.png',dpi=50)"
   ]
  },
  {
   "cell_type": "code",
   "execution_count": null,
   "metadata": {},
   "outputs": [],
   "source": []
  }
 ],
 "metadata": {
  "kernelspec": {
   "display_name": "Python 3 (ipykernel)",
   "language": "python",
   "name": "python3"
  },
  "language_info": {
   "codemirror_mode": {
    "name": "ipython",
    "version": 3
   },
   "file_extension": ".py",
   "mimetype": "text/x-python",
   "name": "python",
   "nbconvert_exporter": "python",
   "pygments_lexer": "ipython3",
   "version": "3.11.5"
  }
 },
 "nbformat": 4,
 "nbformat_minor": 5
}
